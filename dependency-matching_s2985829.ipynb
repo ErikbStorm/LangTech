{
 "cells": [
  {
   "cell_type": "markdown",
   "metadata": {},
   "source": [
    "# Advanced Question Analysis\n",
    "\n",
    "The goal of this assignment is to write a more flexible version of the interactive QA system. As in the previous assignment, the system should be able to take a question in natural language (English) as input, analyse the question, and generate a SPARQL query for it.\n",
    "\n",
    "## Assignment  // Additional requirements\n",
    "\n",
    "* Make sure that your system can analyse at least two more question types. E.g. questions that start with *which*, *when*, where the property is expressed by a verb, etc.\n",
    "* Apart from the techniques introduced last week (matching tokens on the basis of their lemma or part-of-speech), also include at least one pattern where you use the dependency relations to find the relevant property or entity in the question. \n",
    "* Include 10 examples of questions that your system can handle, and that illustrate the fact that you cover additional question types\n",
    "\n",
    "## Examples\n",
    "\n",
    "Here is a non-representative list of questios and question types to consider. See the list with all questions for more examples\n",
    "\n",
    "* For what movie did Leonardo DiCaprio win an Oscar?\n",
    "* How long is Pulp Fiction?\n",
    "* How many episodes does Twin Peaks have?\n",
    "* In what capital was the film The Fault in Our Stars, filmed?\n",
    "* In what year was The Matrix released?\n",
    "* When did Alan Rickman die?\n",
    "* Where was Morgan Freeman born?\n",
    "* Which actor played Aragorn in Lord of the Rings?\n",
    "* Which actors played the role of James Bond\n",
    "* Who directed The Shawshank Redemption?\n",
    "* Which movies are directed by Alice Wu?\n"
   ]
  },
  {
   "cell_type": "code",
   "execution_count": 9,
   "metadata": {},
   "outputs": [],
   "source": [
    "import spacy\n",
    "from spacy import displacy\n",
    "\n",
    "nlp = spacy.load(\"en_core_web_sm\") # this loads the model for analysing English text\n",
    "                   "
   ]
  },
  {
   "cell_type": "markdown",
   "metadata": {},
   "source": [
    "## Dependency Analysis with Spacy\n",
    "\n",
    "All the functionality of Spacy, as in the last assignment, is still available for doing question analysis. \n",
    "\n",
    "In addition, also use the dependency relations assigned by spacy. Note that a dependency relation is a directed, labeled, arc between two tokens in the input. In the example below, the system detects that *movie* is the subject of the passive sentence (with label nsubjpass), and that the head of which this subject is a dependent is the word *are* with lemma *be*. \n"
   ]
  },
  {
   "cell_type": "code",
   "execution_count": null,
   "metadata": {},
   "outputs": [],
   "source": []
  },
  {
   "cell_type": "markdown",
   "metadata": {},
   "source": [
    "## Phrases\n",
    "\n",
    "You can also match with the full phrase that is the subject of the sentence, or any other dependency relation, using the subtree function \n"
   ]
  },
  {
   "cell_type": "code",
   "execution_count": 10,
   "metadata": {},
   "outputs": [],
   "source": [
    "def phrase(word) :\n",
    "    children = []\n",
    "    for child in word.subtree :\n",
    "        children.append(child.text)\n",
    "    return \" \".join(children)\n",
    "\n",
    "\n"
   ]
  },
  {
   "cell_type": "markdown",
   "metadata": {},
   "source": [
    "## Visualisation\n",
    "\n",
    "For a quick understanding of what the parser does, and how it assigns part-of-speech, entities, etc. you can also visualise parse results. Below, the entity visualiser and parsing visualiser is demonstrated. \n",
    "This code is for illustration only, it is not part of the assignment. "
   ]
  },
  {
   "cell_type": "code",
   "execution_count": 11,
   "metadata": {},
   "outputs": [
    {
     "data": {
      "text/html": [
       "<span class=\"tex2jax_ignore\"><div class=\"entities\" style=\"line-height: 2.5; direction: ltr\">Where was \n",
       "<mark class=\"entity\" style=\"background: #7aecec; padding: 0.45em 0.6em; margin: 0 0.25em; line-height: 1; border-radius: 0.35em;\">\n",
       "    Morgan Freeman\n",
       "    <span style=\"font-size: 0.8em; font-weight: bold; line-height: 1; border-radius: 0.35em; text-transform: uppercase; vertical-align: middle; margin-left: 0.5rem\">ORG</span>\n",
       "</mark>\n",
       " born?</div></span>"
      ],
      "text/plain": [
       "<IPython.core.display.HTML object>"
      ]
     },
     "metadata": {},
     "output_type": "display_data"
    },
    {
     "data": {
      "text/html": [
       "<span class=\"tex2jax_ignore\"><svg xmlns=\"http://www.w3.org/2000/svg\" xmlns:xlink=\"http://www.w3.org/1999/xlink\" xml:lang=\"en\" id=\"bf119fac887b435bb9aa078958991aeb-0\" class=\"displacy\" width=\"925\" height=\"399.5\" direction=\"ltr\" style=\"max-width: none; height: 399.5px; color: #000000; background: #ffffff; font-family: Arial; direction: ltr\">\n",
       "<text class=\"displacy-token\" fill=\"currentColor\" text-anchor=\"middle\" y=\"309.5\">\n",
       "    <tspan class=\"displacy-word\" fill=\"currentColor\" x=\"50\">Where</tspan>\n",
       "    <tspan class=\"displacy-tag\" dy=\"2em\" fill=\"currentColor\" x=\"50\">ADV</tspan>\n",
       "</text>\n",
       "\n",
       "<text class=\"displacy-token\" fill=\"currentColor\" text-anchor=\"middle\" y=\"309.5\">\n",
       "    <tspan class=\"displacy-word\" fill=\"currentColor\" x=\"225\">was</tspan>\n",
       "    <tspan class=\"displacy-tag\" dy=\"2em\" fill=\"currentColor\" x=\"225\">AUX</tspan>\n",
       "</text>\n",
       "\n",
       "<text class=\"displacy-token\" fill=\"currentColor\" text-anchor=\"middle\" y=\"309.5\">\n",
       "    <tspan class=\"displacy-word\" fill=\"currentColor\" x=\"400\">Morgan</tspan>\n",
       "    <tspan class=\"displacy-tag\" dy=\"2em\" fill=\"currentColor\" x=\"400\">PROPN</tspan>\n",
       "</text>\n",
       "\n",
       "<text class=\"displacy-token\" fill=\"currentColor\" text-anchor=\"middle\" y=\"309.5\">\n",
       "    <tspan class=\"displacy-word\" fill=\"currentColor\" x=\"575\">Freeman</tspan>\n",
       "    <tspan class=\"displacy-tag\" dy=\"2em\" fill=\"currentColor\" x=\"575\">PROPN</tspan>\n",
       "</text>\n",
       "\n",
       "<text class=\"displacy-token\" fill=\"currentColor\" text-anchor=\"middle\" y=\"309.5\">\n",
       "    <tspan class=\"displacy-word\" fill=\"currentColor\" x=\"750\">born?</tspan>\n",
       "    <tspan class=\"displacy-tag\" dy=\"2em\" fill=\"currentColor\" x=\"750\">VERB</tspan>\n",
       "</text>\n",
       "\n",
       "<g class=\"displacy-arrow\">\n",
       "    <path class=\"displacy-arc\" id=\"arrow-bf119fac887b435bb9aa078958991aeb-0-0\" stroke-width=\"2px\" d=\"M70,264.5 C70,2.0 750.0,2.0 750.0,264.5\" fill=\"none\" stroke=\"currentColor\"/>\n",
       "    <text dy=\"1.25em\" style=\"font-size: 0.8em; letter-spacing: 1px\">\n",
       "        <textPath xlink:href=\"#arrow-bf119fac887b435bb9aa078958991aeb-0-0\" class=\"displacy-label\" startOffset=\"50%\" side=\"left\" fill=\"currentColor\" text-anchor=\"middle\">advmod</textPath>\n",
       "    </text>\n",
       "    <path class=\"displacy-arrowhead\" d=\"M70,266.5 L62,254.5 78,254.5\" fill=\"currentColor\"/>\n",
       "</g>\n",
       "\n",
       "<g class=\"displacy-arrow\">\n",
       "    <path class=\"displacy-arc\" id=\"arrow-bf119fac887b435bb9aa078958991aeb-0-1\" stroke-width=\"2px\" d=\"M245,264.5 C245,89.5 745.0,89.5 745.0,264.5\" fill=\"none\" stroke=\"currentColor\"/>\n",
       "    <text dy=\"1.25em\" style=\"font-size: 0.8em; letter-spacing: 1px\">\n",
       "        <textPath xlink:href=\"#arrow-bf119fac887b435bb9aa078958991aeb-0-1\" class=\"displacy-label\" startOffset=\"50%\" side=\"left\" fill=\"currentColor\" text-anchor=\"middle\">auxpass</textPath>\n",
       "    </text>\n",
       "    <path class=\"displacy-arrowhead\" d=\"M245,266.5 L237,254.5 253,254.5\" fill=\"currentColor\"/>\n",
       "</g>\n",
       "\n",
       "<g class=\"displacy-arrow\">\n",
       "    <path class=\"displacy-arc\" id=\"arrow-bf119fac887b435bb9aa078958991aeb-0-2\" stroke-width=\"2px\" d=\"M420,264.5 C420,177.0 565.0,177.0 565.0,264.5\" fill=\"none\" stroke=\"currentColor\"/>\n",
       "    <text dy=\"1.25em\" style=\"font-size: 0.8em; letter-spacing: 1px\">\n",
       "        <textPath xlink:href=\"#arrow-bf119fac887b435bb9aa078958991aeb-0-2\" class=\"displacy-label\" startOffset=\"50%\" side=\"left\" fill=\"currentColor\" text-anchor=\"middle\">compound</textPath>\n",
       "    </text>\n",
       "    <path class=\"displacy-arrowhead\" d=\"M420,266.5 L412,254.5 428,254.5\" fill=\"currentColor\"/>\n",
       "</g>\n",
       "\n",
       "<g class=\"displacy-arrow\">\n",
       "    <path class=\"displacy-arc\" id=\"arrow-bf119fac887b435bb9aa078958991aeb-0-3\" stroke-width=\"2px\" d=\"M595,264.5 C595,177.0 740.0,177.0 740.0,264.5\" fill=\"none\" stroke=\"currentColor\"/>\n",
       "    <text dy=\"1.25em\" style=\"font-size: 0.8em; letter-spacing: 1px\">\n",
       "        <textPath xlink:href=\"#arrow-bf119fac887b435bb9aa078958991aeb-0-3\" class=\"displacy-label\" startOffset=\"50%\" side=\"left\" fill=\"currentColor\" text-anchor=\"middle\">nsubj</textPath>\n",
       "    </text>\n",
       "    <path class=\"displacy-arrowhead\" d=\"M595,266.5 L587,254.5 603,254.5\" fill=\"currentColor\"/>\n",
       "</g>\n",
       "</svg></span>"
      ],
      "text/plain": [
       "<IPython.core.display.HTML object>"
      ]
     },
     "metadata": {},
     "output_type": "display_data"
    }
   ],
   "source": [
    "from spacy import displacy\n",
    "\n",
    "question = \"Where was Morgan Freeman born?\"\n",
    "\n",
    "parse = nlp(question)\n",
    "\n",
    "displacy.render(parse, jupyter=True, style=\"ent\")\n",
    "\n",
    "displacy.render(parse, jupyter=True, style=\"dep\")"
   ]
  },
  {
   "cell_type": "code",
   "execution_count": 20,
   "metadata": {},
   "outputs": [],
   "source": [
    "import spacy\n",
    "import requests\n",
    "\n",
    "nlp = spacy.load(\"en_core_web_sm\")\n",
    "\n",
    "def phrase(word) :\n",
    "    children = []\n",
    "    for child in word.subtree :\n",
    "        children.append(child.text)\n",
    "    return \" \".join(children)\n",
    "\n",
    "def first_qa():\n",
    "    question = input('Please ask a question:\\n')\n",
    "    parse = nlp(question)\n",
    "    \n",
    "    # Find entity\n",
    "    if len(parse.ents):\n",
    "        entity = str(parse.ents[0])\n",
    "    else:\n",
    "        entity = list()\n",
    "        for word in parse[1:]:\n",
    "            if word.text.istitle():\n",
    "                entity.append(word.text)\n",
    "        entity = ' '.join(entity)\n",
    "    # Find property\n",
    "    verb_dict = {'direct': 'director', \n",
    "                 'die': 'death', \n",
    "                 'bear': 'birth', \n",
    "                 'produce': 'producer',\n",
    "                 'release': 'release',\n",
    "                'portray': 'actor',\n",
    "                'long': 'duration'}\n",
    "    attr_dict = {'when': 'date',\n",
    "                 'how': 'cause',\n",
    "                 'where': 'place'}\n",
    "    prop = list()\n",
    "    pass_query = False\n",
    "    for word in parse:\n",
    "        if word.dep_ == 'nsubj' or word.dep_ == \"attr\":\n",
    "            subject = phrase(word)\n",
    "        if word.dep_ == 'nsubjpass':\n",
    "            pass_query = True\n",
    "        if word.lemma_ in verb_dict:\n",
    "            prop.append(verb_dict[word.lemma_])\n",
    "    \n",
    "    if prop and parse[0].lemma_ in attr_dict and prop[0] != 'duration':\n",
    "        prop.append(attr_dict[parse[0].lemma_])\n",
    "    \n",
    "    if not prop:\n",
    "        newsubject = subject.replace(entity, '')\n",
    "        prop = newsubject.split()[1:-1]\n",
    "     \n",
    "    # Get property uri\n",
    "    url = 'https://www.wikidata.org/w/api.php'\n",
    "    params = {'action':'wbsearchentities', \n",
    "              'language':'en',\n",
    "              'format':'json',\n",
    "              'type':'property'}\n",
    "\n",
    "    params['search'] = ' '.join(prop)\n",
    "    json = requests.get(url,params).json()\n",
    "    if json['search']:\n",
    "        prop_id = json['search'][0]['id']\n",
    "    else:\n",
    "        return 'No answer found'\n",
    "    \n",
    "    # Get entity uri\n",
    "    entity_ids = list()\n",
    "    url = 'https://www.wikidata.org/w/api.php'\n",
    "    params = {'action':'wbsearchentities', \n",
    "              'language':'en',\n",
    "              'format':'json'}\n",
    "\n",
    "    params['search'] = entity\n",
    "    json = requests.get(url,params).json()\n",
    "    \n",
    "    if json['search']:\n",
    "        entity_ids = [result['id'] for result in json['search']]\n",
    "    else:\n",
    "        return 'No answer found'\n",
    "    \n",
    "    # create SPARQL query for each key-word\n",
    "    answers = list()\n",
    "    for ent_id in entity_ids:\n",
    "        if pass_query:\n",
    "            query = \"SELECT ?answerLabel WHERE { ?answer wdt:\" + prop_id + \" wd:\" + ent_id + \". SERVICE wikibase:label { bd:serviceParam wikibase:language 'en' }}\"\n",
    "        else:\n",
    "            query = \"SELECT ?answerLabel WHERE { wd:\" + ent_id + \" wdt:\" + prop_id + \" ?answer. SERVICE wikibase:label { bd:serviceParam wikibase:language 'en' }}\"    \n",
    "        url = 'https://query.wikidata.org/sparql'\n",
    "        results = requests.get(url, params={'query': query, 'format': 'json'}).json()\n",
    "        if results['results']['bindings']:\n",
    "            for result in results['results']['bindings']:\n",
    "                answers.append(result['answerLabel']['value'])\n",
    "    return '\\n'.join(set(answers))"
   ]
  },
  {
   "cell_type": "code",
   "execution_count": 24,
   "metadata": {
    "scrolled": false
   },
   "outputs": [
    {
     "name": "stdout",
     "output_type": "stream",
     "text": [
      "Please ask a question:\n",
      "Who produced The Avengers?\n",
      "Jerry Weintraub\n",
      "Kevin Feige\n"
     ]
    }
   ],
   "source": [
    "print(first_qa())"
   ]
  },
  {
   "cell_type": "markdown",
   "metadata": {},
   "source": [
    "# Questions:\n",
    "* Q1: Who directed Parasite?\n",
    "* Q2: Which movies were directed by Alice Wu?\n",
    "* Q3: When did The Godfather release?\n",
    "* Q4: How did Alan Rickman die?\n",
    "* Q5: How long is Pulp Fiction?\n",
    "* Q6: Which actors have portrayed the character James Bond?\n",
    "* Q7: What is the country of citizenship of Black Panther?\n",
    "* Q8: Where was Morgan Freeman born?\n",
    "* Q9: Who was the director of photography of Fargo?\n",
    "* Q10: Who produced The Avengers?"
   ]
  },
  {
   "cell_type": "code",
   "execution_count": null,
   "metadata": {},
   "outputs": [],
   "source": []
  }
 ],
 "metadata": {
  "kernelspec": {
   "display_name": "Python 3",
   "language": "python",
   "name": "python3"
  },
  "language_info": {
   "codemirror_mode": {
    "name": "ipython",
    "version": 3
   },
   "file_extension": ".py",
   "mimetype": "text/x-python",
   "name": "python",
   "nbconvert_exporter": "python",
   "pygments_lexer": "ipython3",
   "version": "3.6.9"
  }
 },
 "nbformat": 4,
 "nbformat_minor": 4
}

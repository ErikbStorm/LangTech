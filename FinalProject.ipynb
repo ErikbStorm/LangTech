{
 "cells": [
  {
   "cell_type": "markdown",
   "metadata": {},
   "source": [
    "# Final Project\n",
    "\n",
    "For the final project, the goal is to implement a QA-sytem that will answer all kinds of questions about movies, actors, and everything related to the movie business.\n",
    "\n",
    "## Test Questions\n",
    "\n",
    "The result will be evaluated, among others, on a set of test questions. The test questions are provided as a tab-separated csv file consisting of an ID and the text of the question:\n",
    "\n",
    "    ID   Text of the question\n",
    "    \n",
    "Your results are also to be submitted as a tab-separated csv file. Code for reading in the data and writing the answers file is provided below. All you have to do is improve the question-answering function. \n",
    "\n",
    "## Answer file\n",
    "\n",
    "The answer file is also a tab-separated csv file, as in the example output below (in file 'our_team_answers.csv'). For list questions, return the list of answers separated by a comma, also as shown in the example below. \n",
    "\n",
    "Make sure to answer all questions, so if no answer is found by the system, insert a dummy answer such as 'No answer found'. \n"
   ]
  },
  {
   "cell_type": "code",
   "execution_count": 1,
   "metadata": {},
   "outputs": [],
   "source": [
    "import csv"
   ]
  },
  {
   "cell_type": "code",
   "execution_count": 11,
   "metadata": {},
   "outputs": [],
   "source": [
    "def our_question_answering_function(question) :\n",
    "    if question.startswith('Who') :\n",
    "        return \"Leonardo DiCaprio\"\n",
    "    elif question.startswith('Name all') :\n",
    "        return ','.join(['Robert de Niro','Al Pacino'])\n",
    "    elif question.startswith('In which year') :\n",
    "        return \"1984\"\n",
    "    else :\n",
    "        return \"No answer found\"        \n",
    "\n",
    "answers = {}\n",
    "\n",
    "with open('test_questions.csv') as questions :\n",
    "    reader = csv.reader(questions,delimiter='\\t')\n",
    "    for row in reader:\n",
    "        question_id = row[0]\n",
    "        question_text = row[1]\n",
    "        answers[question_id] = our_question_answering_function(question_text)\n",
    "        \n",
    "with open('our_team_answers.csv', mode='w') as answerfile :\n",
    "    writer = csv.writer(answerfile,delimiter='\\t')\n",
    "    for key in answers :\n",
    "        writer.writerow([key,answers[key]])\n",
    "      "
   ]
  },
  {
   "cell_type": "code",
   "execution_count": null,
   "metadata": {},
   "outputs": [],
   "source": []
  }
 ],
 "metadata": {
  "kernelspec": {
   "display_name": "Python 3",
   "language": "python",
   "name": "python3"
  },
  "language_info": {
   "codemirror_mode": {
    "name": "ipython",
    "version": 3
   },
   "file_extension": ".py",
   "mimetype": "text/x-python",
   "name": "python",
   "nbconvert_exporter": "python",
   "pygments_lexer": "ipython3",
   "version": "3.8.5"
  }
 },
 "nbformat": 4,
 "nbformat_minor": 4
}
